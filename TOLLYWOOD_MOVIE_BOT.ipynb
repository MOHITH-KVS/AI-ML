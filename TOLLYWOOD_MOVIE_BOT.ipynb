{
  "cells": [
    {
      "cell_type": "markdown",
      "source": [
        "TOLLYWOOD MOVIE BOT"
      ],
      "metadata": {
        "id": "8xLdzvR8XI7w"
      }
    },
    {
      "cell_type": "code",
      "source": [
        "import json\n",
        "import os\n",
        "import re\n",
        "\n",
        "# Load the JSON data with file check\n",
        "def load_json(file_path):\n",
        "    if not os.path.exists(file_path):\n",
        "        print(f\"Error: File '{file_path}' not found.\")\n",
        "        return {}\n",
        "\n",
        "    with open(file_path, 'r') as file:\n",
        "        content = file.read().strip()\n",
        "        if not content:\n",
        "            print(f\"Error: File '{file_path}' is empty.\")\n",
        "            return {}\n",
        "        try:\n",
        "            data = json.loads(content)  # Load JSON from the string content\n",
        "        except json.JSONDecodeError as e:\n",
        "            print(f\"JSONDecodeError: {e}\")\n",
        "            return {}\n",
        "    return data\n",
        "\n",
        "# Load data\n",
        "tollywood_movies = load_json('/content/tollywood_movies.json')\n",
        "if not tollywood_movies:\n",
        "    print(\"Failed to load data. Please check the JSON file format or content.\")\n",
        "else:\n",
        "    print(\"Data loaded successfully!\")\n",
        "\n",
        "    # Initialize lookup dictionaries\n",
        "    actor_to_movies = {}\n",
        "    movie_to_actor = {}\n",
        "\n",
        "    # Populate dictionaries with original and lowercase versions\n",
        "    for actor, movies in tollywood_movies.items():\n",
        "        actor_lower = actor.strip().lower()\n",
        "        actor_to_movies[actor_lower] = {'original_name': actor, 'movies': movies}\n",
        "\n",
        "        for movie in movies:\n",
        "            movie_lower = movie.strip().lower()\n",
        "            if movie_lower not in movie_to_actor:\n",
        "                movie_to_actor[movie_lower] = []\n",
        "            movie_to_actor[movie_lower].append(actor)\n",
        "\n",
        "    # Chatbot response function\n",
        "    def chatbot_response(user_input):\n",
        "        user_input_normalized = user_input.strip().lower()\n",
        "\n",
        "        # General keyword matching for actors\n",
        "        actor_match = re.search(r\"movies of ([\\w\\s]+)\", user_input_normalized)\n",
        "        if actor_match:\n",
        "            actor_name = actor_match.group(1).strip()\n",
        "            actor_lower = actor_name.lower()\n",
        "            if actor_lower in actor_to_movies:\n",
        "                actor_details = actor_to_movies[actor_lower]\n",
        "                movies = actor_details['movies']\n",
        "                original_name = actor_details['original_name']\n",
        "\n",
        "                # Format movies to display one by one\n",
        "                movie_list = \"\\n\".join(f\"- {movie}\" for movie in movies)\n",
        "                movie_count = len(movies)\n",
        "                return (f\"{original_name} has acted in the following movies:\\n{movie_list}\\n\"\n",
        "                        f\"Total number of movies: {movie_count}\")\n",
        "            else:\n",
        "                return \"Sorry, I couldn't find that actor. Please check the name and try again.\"\n",
        "\n",
        "        # Check if user input matches an actor's name directly\n",
        "        if user_input_normalized in actor_to_movies:\n",
        "            actor_details = actor_to_movies[user_input_normalized]\n",
        "            movies = actor_details['movies']\n",
        "            original_name = actor_details['original_name']\n",
        "\n",
        "            # Format movies to display one by one\n",
        "            movie_list = \"\\n\".join(f\"- {movie}\" for movie in movies)\n",
        "            movie_count = len(movies)\n",
        "            return (f\"{original_name} has acted in the following movies:\\n{movie_list}\\n\"\n",
        "                    f\"Total number of movies: {movie_count}\")\n",
        "\n",
        "        # Check if user input matches a movie name\n",
        "        if user_input_normalized in movie_to_actor:\n",
        "            actors = movie_to_actor[user_input_normalized]\n",
        "            return f\"The movie '{user_input}' features the following actor(s): \" + \", \".join(actors)\n",
        "\n",
        "        # If neither match\n",
        "        return \"Sorry, I couldn't find that actor or movie. Please check the name and try again.\"\n",
        "\n",
        "    # Main interaction loop\n",
        "    print(\"Welcome to the Tollywood Movie Chatbot! Type 'exit' to quit.\")\n",
        "    while True:\n",
        "        user_input = input(\"Enter an actor's name or movie title: \")\n",
        "        if user_input.lower() == \"exit\":\n",
        "            print(\"Goodbye!\")\n",
        "            break\n",
        "        response = chatbot_response(user_input)\n",
        "        print(response)\n"
      ],
      "metadata": {
        "colab": {
          "base_uri": "https://localhost:8080/"
        },
        "id": "ZU5BSnXeUGpR",
        "outputId": "f452b562-b75e-4dbf-d316-b1604b50bc3a"
      },
      "execution_count": null,
      "outputs": [
        {
          "output_type": "stream",
          "name": "stdout",
          "text": [
            "Data loaded successfully!\n",
            "Welcome to the Tollywood Movie Chatbot! Type 'exit' to quit.\n"
          ]
        }
      ]
    },
    {
      "cell_type": "markdown",
      "source": [],
      "metadata": {
        "id": "lovp1OVrXHcY"
      }
    }
  ],
  "metadata": {
    "colab": {
      "provenance": []
    },
    "kernelspec": {
      "display_name": "Python 3",
      "name": "python3"
    },
    "language_info": {
      "name": "python"
    }
  },
  "nbformat": 4,
  "nbformat_minor": 0
}